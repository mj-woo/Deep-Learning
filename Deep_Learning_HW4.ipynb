{
  "nbformat": 4,
  "nbformat_minor": 0,
  "metadata": {
    "colab": {
      "provenance": [],
      "authorship_tag": "ABX9TyP9glLNNQa3Zz/YX9T2Dbwl",
      "include_colab_link": true
    },
    "kernelspec": {
      "name": "python3",
      "display_name": "Python 3"
    },
    "language_info": {
      "name": "python"
    }
  },
  "cells": [
    {
      "cell_type": "markdown",
      "metadata": {
        "id": "view-in-github",
        "colab_type": "text"
      },
      "source": [
        "<a href=\"https://colab.research.google.com/github/mj-woo/Deep-Learning/blob/main/Deep_Learning_HW4.ipynb\" target=\"_parent\"><img src=\"https://colab.research.google.com/assets/colab-badge.svg\" alt=\"Open In Colab\"/></a>"
      ]
    },
    {
      "cell_type": "code",
      "execution_count": 1,
      "metadata": {
        "id": "M7OAKy0FCEQG"
      },
      "outputs": [],
      "source": [
        "import numpy as np\n",
        "import tensorflow as tf\n",
        "from tensorflow.keras.layers import Input, Dense, Add\n",
        "from tensorflow.keras.models import Model\n",
        "from tensorflow.keras.optimizers import SGD\n",
        "from tensorflow.keras.losses import SparseCategoricalCrossentropy\n",
        "from sklearn.model_selection import train_test_split\n",
        "from sklearn.preprocessing import StandardScaler\n",
        "from tensorflow.keras.callbacks import EarlyStopping\n",
        "import matplotlib.pyplot as plt"
      ]
    },
    {
      "cell_type": "code",
      "source": [
        "# Load UCI Covertype Dataset\n",
        "from sklearn.datasets import fetch_covtype\n",
        "dataset = fetch_covtype()\n",
        "X, y = dataset.data, dataset.target - 1  # Labels should start from 0"
      ],
      "metadata": {
        "id": "PSM6oy5wCIU_"
      },
      "execution_count": 2,
      "outputs": []
    },
    {
      "cell_type": "code",
      "source": [
        "# Preprocessing\n",
        "scaler = StandardScaler()\n",
        "X = scaler.fit_transform(X)\n",
        "X_train, X_val, y_train, y_val = train_test_split(X, y, test_size=0.2, random_state=42)"
      ],
      "metadata": {
        "id": "N1cW3cvTCgTH"
      },
      "execution_count": 4,
      "outputs": []
    },
    {
      "cell_type": "code",
      "source": [
        "print(X_train.shape)\n",
        "print(X_val.shape)\n",
        "print(y_train.shape)\n",
        "print(y_val.shape)"
      ],
      "metadata": {
        "colab": {
          "base_uri": "https://localhost:8080/"
        },
        "id": "VdE0x9A4K5kO",
        "outputId": "693b99fd-2d8a-4168-bf12-1dd16f649814"
      },
      "execution_count": 21,
      "outputs": [
        {
          "output_type": "stream",
          "name": "stdout",
          "text": [
            "(464809, 54)\n",
            "(116203, 54)\n",
            "(464809,)\n",
            "(116203,)\n"
          ]
        }
      ]
    },
    {
      "cell_type": "code",
      "source": [
        "# Select a single batch for overfitting\n",
        "batch_size = 128\n",
        "X_train_batch, y_train_batch = X_train[:batch_size], y_train[:batch_size]"
      ],
      "metadata": {
        "id": "pzs-7mLDCgzY"
      },
      "execution_count": 5,
      "outputs": []
    },
    {
      "cell_type": "code",
      "source": [
        "# Define the Residual Block\n",
        "def residual_block(input_tensor, units):\n",
        "    x = Dense(units, activation='relu')(input_tensor)\n",
        "    x = Dense(units, activation='relu')(x)\n",
        "\n",
        "    # Residual Connection (linear projection if shape mismatch)\n",
        "    if input_tensor.shape[-1] != units:\n",
        "        input_tensor = Dense(units)(input_tensor)\n",
        "    x = Add()([x, input_tensor])\n",
        "    return x"
      ],
      "metadata": {
        "id": "mlGnu0wACi_i"
      },
      "execution_count": 6,
      "outputs": []
    },
    {
      "cell_type": "code",
      "source": [
        "# Build the MLP with Residual and Skip Connections\n",
        "inputs = Input(shape=(X_train.shape[1],))\n",
        "x = Dense(64, activation='relu')(inputs)\n",
        "res_out = residual_block(x, 64)  # Residual block"
      ],
      "metadata": {
        "id": "UqBXkX0HCly7"
      },
      "execution_count": 7,
      "outputs": []
    },
    {
      "cell_type": "code",
      "source": [
        "# Additional skip connection (bypassing layers)\n",
        "skip_out = Dense(32, activation='relu')(inputs)\n",
        "x = Dense(32, activation='relu')(res_out)\n",
        "x = Add()([x, skip_out])\n",
        "\n",
        "outputs = Dense(len(np.unique(y)), activation='softmax')(x)\n",
        "model = Model(inputs, outputs)"
      ],
      "metadata": {
        "id": "HvE5fkj8Cn_R"
      },
      "execution_count": 10,
      "outputs": []
    },
    {
      "cell_type": "code",
      "source": [
        "# Compile the model\n",
        "model.compile(optimizer=SGD(learning_rate=0.01),\n",
        "              loss=SparseCategoricalCrossentropy(),\n",
        "              metrics=['accuracy'])"
      ],
      "metadata": {
        "id": "IJbiJfBCCtl5"
      },
      "execution_count": 11,
      "outputs": []
    },
    {
      "cell_type": "code",
      "source": [
        "# Train only on one batch\n",
        "history = model.fit(X_train_batch, y_train_batch, epochs=500, verbose=0)"
      ],
      "metadata": {
        "id": "zMjGCy2aC1DO"
      },
      "execution_count": 12,
      "outputs": []
    },
    {
      "cell_type": "code",
      "source": [
        "# Evaluate on full validation set\n",
        "train_loss, train_acc = model.evaluate(X_train_batch, y_train_batch, verbose=0)\n",
        "val_loss, val_acc = model.evaluate(X_val, y_val, verbose=0)"
      ],
      "metadata": {
        "id": "eUCX4MjMC3tD"
      },
      "execution_count": 13,
      "outputs": []
    },
    {
      "cell_type": "code",
      "source": [
        "# Print results\n",
        "print(f\"Number of parameters: {model.count_params()}\")\n",
        "print(f\"Final training loss: {train_loss:.4f}\")\n",
        "print(f\"Final validation loss: {val_loss:.4f}\")"
      ],
      "metadata": {
        "colab": {
          "base_uri": "https://localhost:8080/"
        },
        "id": "_OwuvoUvC6G9",
        "outputId": "17ebbead-337b-460e-c000-0f072bf30ed4"
      },
      "execution_count": 14,
      "outputs": [
        {
          "output_type": "stream",
          "name": "stdout",
          "text": [
            "Number of parameters: 15911\n",
            "Final training loss: 0.0606\n",
            "Final validation loss: 2.3882\n"
          ]
        }
      ]
    },
    {
      "cell_type": "code",
      "source": [
        "# Save model architecture to JSON\n",
        "model_json = model.to_json()\n",
        "with open(\"mlp_residual_skip.json\", \"w\") as json_file:\n",
        "    json_file.write(model_json)"
      ],
      "metadata": {
        "id": "5nUfNPA1Ddb6"
      },
      "execution_count": 18,
      "outputs": []
    },
    {
      "cell_type": "code",
      "source": [
        "# Plot training loss\n",
        "plt.plot(history.history['loss'])\n",
        "plt.xlabel('Epochs')\n",
        "plt.ylabel('Loss')\n",
        "plt.title('Training Loss (Overfitting on One Batch)')\n",
        "plt.show()"
      ],
      "metadata": {
        "colab": {
          "base_uri": "https://localhost:8080/",
          "height": 472
        },
        "id": "UXV7E_stC8cc",
        "outputId": "22e4bcde-7399-423b-ac74-0d8011da58c4"
      },
      "execution_count": 19,
      "outputs": [
        {
          "output_type": "display_data",
          "data": {
            "text/plain": [
              "<Figure size 640x480 with 1 Axes>"
            ],
            "image/png": "[encoded data removed]"
          },
          "metadata": {}
        }
      ]
    }
  ]
}